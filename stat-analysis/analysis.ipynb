{
 "cells": [
  {
   "cell_type": "markdown",
   "metadata": {},
   "source": [
    "# Statistical Summary/Analysis\n",
    "Use this notebook to calculate summary stats, correlation analyses\n",
    "and other useful metrics for training and evalution data"
   ]
  },
  {
   "cell_type": "code",
   "execution_count": null,
   "metadata": {},
   "outputs": [],
   "source": [
    "import os\n",
    "from typing import Literal\n",
    "\n",
    "import pandas as pd\n",
    "\n",
    "Analysis = Literal[\"summary\", \"error\"]\n",
    "ANALYSES: list[Analysis]\n",
    "\n",
    "# LOL dfs win score prediction\n",
    "DATA_FILE = os.path.join(\n",
    "    \"/\", \"fantasy-experiments\", \"df-hist\", \"data\", \"lol-draftkings-CLASSIC-GPP.csv\"\n",
    ")\n",
    "COLS_TO_DROP = [\"slate_id\", \"link\", \"style\", \"type\", \"date\"]\n",
    "FILTER_QUERY = \"slate_id.notna()\"\n",
    "ANALYSES = [\"summary\"]\n",
    "\n",
    "# Prediction results for\n",
    "DATA_FILE = os.path.join(\n",
    "    \"/\", \"fantasy-experiments\", \"df-hist\", \"eval_results\", \"lol-draftkings-CLASSIC-GPP.prediction.csv\"\n",
    ")\n",
    "ANALYSES = [\"error\"] "
   ]
  },
  {
   "cell_type": "code",
   "execution_count": null,
   "metadata": {},
   "outputs": [],
   "source": [
    "import matplotlib as plt\n",
    "\n",
    "def load(path: str, cols_to_drop: list[str] | None = None, filter_query: str | None = None):\n",
    "    \"\"\"\n",
    "    filter_query: Rows not matching this query will be dropped\n",
    "    \"\"\"\n",
    "    df = pd.read_csv(DATA_FILE)\n",
    "    file_len = len(df)\n",
    "    print(f\"Loaded n={file_len} from '{DATA_FILE}'\")\n",
    "    if filter_query:\n",
    "        df = df.query(filter_query)\n",
    "        print(f\"Filter query dropped {file_len - len(df)} rows, {len(df)} remaining\")\n",
    "    if cols_to_drop is not None:\n",
    "        print(f\"Dropping columns: {cols_to_drop}\")\n",
    "        df = df.drop(columns=cols_to_drop)\n",
    "    return df\n",
    "\n",
    "\n",
    "def summarize(df: pd.DataFrame):\n",
    "    summary = {\n",
    "        \"desc\": df.describe(),\n",
    "        \"corr-cross\": df.corr(),\n",
    "    }\n",
    "    return summary\n",
    "\n",
    "def error_analysis(df: pd.DataFrame):\n",
    "    assert {\"truth\", \"prediction\", \"error\"} <= set(df.columns)\n",
    "    raise NotImplementedError()\n",
    "\n",
    "    fig, axs = plt.subplots(1, 2, figsize=(10, 5))\n",
    "    fig.suptitle(f\"{desc or 'unknown model'} : {r2=} {rmse=} {mae=}\")\n",
    "    for ax in axs:\n",
    "        ax.axis(\"equal\")\n",
    "\n",
    "    min_v = min(df.truth.min(), df.prediction.min())\n",
    "    max_v = max(df.truth.max(), df.prediction.max())\n",
    "\n",
    "    axs[0].plot((min_v, max_v), (min_v, max_v), \"-g\", linewidth=1)\n",
    "    plot_data.plot(kind=\"scatter\", x=\"truth\", y=\"prediction\", ax=axs[0])\n",
    "\n",
    "    axs[1].yaxis.set_label_position(\"right\")\n",
    "    axs[1].plot((min_v, max_v), (0, 0), \"-g\", linewidth=1)\n",
    "    plot_data.plot(kind=\"scatter\", x=\"truth\", y=\"error\", ax=axs[1])\n",
    "    "
   ]
  },
  {
   "cell_type": "code",
   "execution_count": null,
   "metadata": {},
   "outputs": [],
   "source": [
    "df = load(DATA_FILE, filter_query=FILTER_QUERY, cols_to_drop=COLS_TO_DROP)\n",
    "display(\n",
    "    f\"data n={len(df)}\",\n",
    "    # df.style.hide()\n",
    ")\n",
    "\n",
    "if \"summary\" in ANALYSES:\n",
    "    summary = summarize(df)\n",
    "    for name, df in summary.items():\n",
    "        display(name, df)\n",
    "        \n",
    "if \"error\" in ANALYSES:\n",
    "    "
   ]
  }
 ],
 "metadata": {
  "kernelspec": {
   "display_name": "venv",
   "language": "python",
   "name": "python3"
  },
  "language_info": {
   "codemirror_mode": {
    "name": "ipython",
    "version": 3
   },
   "file_extension": ".py",
   "mimetype": "text/x-python",
   "name": "python",
   "nbconvert_exporter": "python",
   "pygments_lexer": "ipython3",
   "version": "3.11.6"
  }
 },
 "nbformat": 4,
 "nbformat_minor": 2
}
