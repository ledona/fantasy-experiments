{
 "cells": [
  {
   "cell_type": "markdown",
   "metadata": {},
   "source": [
    "# Statistical Summary/Analysis\n",
    "Use this notebook to calculate summary stats, correlation analyses\n",
    "and other useful metrics for training and evalution data"
   ]
  },
  {
   "cell_type": "code",
   "execution_count": null,
   "metadata": {},
   "outputs": [],
   "source": [
    "import os\n",
    "\n",
    "import pandas as pd\n",
    "\n",
    "DATA_FILE = os.path.join(\n",
    "    \"/\", \"fantasy-experiments\", \"df-hist\", \"data\", \"lol-draftkings-CLASSIC-GPP.csv\"\n",
    ")\n",
    "COLS_TO_DROP = [\"slate_id\", \"link\", \"style\", \"type\", \"date\"]\n",
    "FILTER_QUERY = \"slate_id.notna()\"\n"
   ]
  },
  {
   "cell_type": "code",
   "execution_count": null,
   "metadata": {},
   "outputs": [],
   "source": [
    "def load(path: str, cols_to_drop: list[str] | None = None, filter_query: str | None = None):\n",
    "    \"\"\"\n",
    "    filter_query: Rows not matching this query will be dropped\n",
    "    \"\"\"\n",
    "    df = pd.read_csv(DATA_FILE)\n",
    "    # display(\"Loaded data\", df)\n",
    "    file_len = len(df)\n",
    "    print(f\"Loaded n={file_len} from '{DATA_FILE}'\")\n",
    "    if filter_query:\n",
    "        df = df.query(filter_query)\n",
    "        print(f\"Filter query dropped {file_len - len(df)} rows, {len(df)} remaining\")\n",
    "    if cols_to_drop is not None:\n",
    "        print(f\"Dropping columns: {cols_to_drop}\")\n",
    "        df = df.drop(columns=cols_to_drop)\n",
    "    return df\n",
    "\n",
    "def summarize(df: pd.DataFrame):\n",
    "    return df.describe()"
   ]
  },
  {
   "cell_type": "code",
   "execution_count": null,
   "metadata": {},
   "outputs": [],
   "source": [
    "df = load(DATA_FILE, filter_query=FILTER_QUERY, cols_to_drop=COLS_TO_DROP)\n",
    "display(f\"data n={len(df)}\", df.style.hide())\n",
    "summary = summarize(df)\n",
    "display(summary)"
   ]
  }
 ],
 "metadata": {
  "kernelspec": {
   "display_name": "venv",
   "language": "python",
   "name": "python3"
  },
  "language_info": {
   "codemirror_mode": {
    "name": "ipython",
    "version": 3
   },
   "file_extension": ".py",
   "mimetype": "text/x-python",
   "name": "python",
   "nbconvert_exporter": "python",
   "pygments_lexer": "ipython3",
   "version": "3.11.6"
  }
 },
 "nbformat": 4,
 "nbformat_minor": 2
}
