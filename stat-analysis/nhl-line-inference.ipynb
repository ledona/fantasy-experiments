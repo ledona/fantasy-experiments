{
 "cells": [
  {
   "cell_type": "markdown",
   "metadata": {},
   "source": [
    "# Analysis of nhl skater data for inference of starting line\n",
    "\n",
    "First export a dataset for analysis with something like the following.\n",
    "```\n",
    "DB_FILE=nhl.hist.20072008-20232024.scored.db\n",
    "SEASONS=\"20072008 20232024\"\n",
    "STATS=\"toi_ev toi_pp toi_sh fo line\"\n",
    "POSITIONS=\"LW RW W C D\"\n",
    "\n",
    "dumpdata.sc $DB_FILE --seasons $SEASONS --stats $STATS --pos $POSITIONS --format parquet -f nhl.line-inference-data.parquet\n",
    "```"
   ]
  },
  {
   "cell_type": "code",
   "execution_count": 39,
   "metadata": {},
   "outputs": [],
   "source": [
    "import os\n",
    "\n",
    "import pandas as pd\n",
    "\n",
    "FILEPATH = os.path.join(os.environ[\"FANTASY_HOME\"], \"nhl.line-inference-data.parquet\")\n",
    "df = pd.read_parquet(FILEPATH)\n",
    "df = (\n",
    "    df[[\"season\", \"game_id\", \"team_id\", \"pos\"] + [col for col in df if \":\" in col]]\n",
    "    .assign(toi_total=df[\"stat:toi_ev\"] + df[\"stat:toi_pp\"] + df[\"stat:toi_sh\"])\n",
    "    .query(\"toi_total.notna()\")\n",
    ")\n",
    "w_line_df = df.query(\"season == 20232024\").sort_values(\n",
    "    [\"season\", \"game_id\", \"team_id\", \"stat:line\"]\n",
    ")\n",
    "w_line_def_df = w_line_df.query(\"pos == 'D'\")\n",
    "w_line_off_df = w_line_df.query(\"pos != 'D'\")\n",
    "\n",
    "no_line_df = (\n",
    "    df.query(\"season == 20072008\")\n",
    "    .drop(columns=\"stat:line\")\n",
    "    .sort_values([\"season\", \"game_id\", \"team_id\"])\n",
    ")\n",
    "no_line_def_df = no_line_df.query(\"pos == 'D'\")\n",
    "no_line_off_df = no_line_df.query(\"pos != 'D'\")"
   ]
  },
  {
   "cell_type": "code",
   "execution_count": null,
   "metadata": {},
   "outputs": [],
   "source": [
    "display(\"with line off\", w_line_off_df)\n",
    "display(\"with line def\", w_line_def_df)\n",
    "\n",
    "display(\"no line off\", no_line_off_df)\n",
    "display(\"no line def\", no_line_def_df)"
   ]
  },
  {
   "cell_type": "code",
   "execution_count": null,
   "metadata": {},
   "outputs": [],
   "source": []
  }
 ],
 "metadata": {
  "kernelspec": {
   "display_name": "venv",
   "language": "python",
   "name": "python3"
  },
  "language_info": {
   "codemirror_mode": {
    "name": "ipython",
    "version": 3
   },
   "file_extension": ".py",
   "mimetype": "text/x-python",
   "name": "python",
   "nbconvert_exporter": "python",
   "pygments_lexer": "ipython3",
   "version": "3.12.2"
  }
 },
 "nbformat": 4,
 "nbformat_minor": 2
}
