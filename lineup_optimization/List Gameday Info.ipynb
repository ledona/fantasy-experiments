{
 "cells": [
  {
   "cell_type": "markdown",
   "metadata": {},
   "source": [
    "# Find Days To Use for Lineup Optimization\n",
    "This notebook has code that will list statistics for games days for a season of a sport. Use this to figure out which days to use as test cases for optimizing lineup generation settings.\n",
    "\n",
    "1. Find days to run analysis on. Pick date(s) that have a desired number of games and players."
   ]
  },
  {
   "cell_type": "code",
   "execution_count": null,
   "metadata": {},
   "outputs": [],
   "source": [
    "from IPython import display\n",
    "import os\n",
    "import ipywidgets\n",
    "\n",
    "from fantasy_py.util.notebook import DBFileDropdown, SeasonSelector\n",
    "\n",
    "output = ipywidgets.widgets.Output()\n",
    "db_dropdown = DBFileDropdown(path_to_dbs=os.environ['FANTASY_HOME'])\n",
    "display.display(db_dropdown)\n",
    "season_sel = SeasonSelector(db_dropdown, output_widget=output)\n",
    "display.display(season_sel)\n",
    "display.display(output)"
   ]
  },
  {
   "cell_type": "code",
   "execution_count": null,
   "metadata": {},
   "outputs": [],
   "source": [
    "from sqlalchemy import func\n",
    "import qgrid\n",
    "from pandas import DataFrame\n",
    "\n",
    "from fantasy_py import db\n",
    "\n",
    "seasons = (2016, 2017, 2018)\n",
    "\n",
    "os.chdir(os.environ['FANTASY_HOME'])\n",
    "db_obj = db.get_db_obj(db_dropdown.value)\n",
    "\n",
    "data = {'date': [],\n",
    "        'games': []}\n",
    "\n",
    "with db_obj.session_scoped() as session:\n",
    "    for game_date, count in session.query(db.Game.date, func.count()) \\\n",
    "                                   .filter(db.Game.season.in_(seasons)) \\\n",
    "                                   .group_by(db.Game.date) \\\n",
    "                                   .order_by(db.Game.date) \\\n",
    "                                   .all():\n",
    "        data['date'].append(game_date)\n",
    "        data['games'].append(count)\n",
    "\n",
    "    \n",
    "df = DataFrame.from_dict(data)\n",
    "# note that the number of players per game is uniquely defined by sport\n",
    "if db_obj.db_manager.ABBR == 'mlb':\n",
    "    df['players'] = df['games'] * 9\n",
    "else:\n",
    "    raise NotImplemented(\"do something for this sport's player count\")\n",
    "\n",
    "display.display(qgrid.QgridWidget(df=df))"
   ]
  },
  {
   "cell_type": "code",
   "execution_count": null,
   "metadata": {},
   "outputs": [],
   "source": []
  }
 ],
 "metadata": {
  "kernelspec": {
   "display_name": "Python 3",
   "language": "python",
   "name": "python3"
  },
  "language_info": {
   "codemirror_mode": {
    "name": "ipython",
    "version": 3
   },
   "file_extension": ".py",
   "mimetype": "text/x-python",
   "name": "python",
   "nbconvert_exporter": "python",
   "pygments_lexer": "ipython3",
   "version": "3.6.5"
  }
 },
 "nbformat": 4,
 "nbformat_minor": 2
}
