{
 "cells": [
  {
   "attachments": {},
   "cell_type": "markdown",
   "metadata": {},
   "source": [
    "# LOL player cost model"
   ]
  },
  {
   "cell_type": "code",
   "execution_count": null,
   "metadata": {},
   "outputs": [],
   "source": [
    "# Load the data\n",
    "import os\n",
    "import pandas as pd\n",
    "\n",
    "LOL_COST_FILE_PATH = os.path.join(\n",
    "    os.environ[\"FANTASY_ARCHIVE_BASE\"], \"lol\", \"cost_archive\"\n",
    ")\n",
    "\n",
    "dk_dfs: list[pd.DataFrame] = []\n",
    "fd_dfs: list[pd.DataFrame] = []\n",
    "for filename in os.listdir(LOL_COST_FILE_PATH):\n",
    "    if \"draftkings\" in filename:\n",
    "        df = pd.read_csv(os.path.join(LOL_COST_FILE_PATH, filename))\n",
    "        df[\"service\"] = \"draftkings\"\n",
    "        dk_dfs.append(df)\n",
    "    elif \"fanduel\" in filename:\n",
    "        df = pd.read_csv(os.path.join(LOL_COST_FILE_PATH, filename))\n",
    "        df[\"service\"] = \"fanduel\"\n",
    "        df[\"filename\"] = filename\n",
    "        fd_dfs.append(df)\n",
    "\n",
    "dk_df = pd.concat(dk_dfs)\n",
    "fd_df = pd.concat(fd_dfs)\n",
    "\n",
    "display(dk_df)\n",
    "display(fd_df)\n"
   ]
  },
  {
   "cell_type": "code",
   "execution_count": null,
   "metadata": {},
   "outputs": [],
   "source": [
    "# transform draftkings data\n",
    "dk_cleaned_df = dk_df[dk_df[\"Roster Position\"] != \"CPT\"].rename(\n",
    "    {\n",
    "        \"Position\": \"pos\",\n",
    "        \"Name\": \"name\",\n",
    "        \"Salary\": \"cost\",\n",
    "        \"TeamAbbrev\": \"team\",\n",
    "    },\n",
    "    axis=1,\n",
    ")\n",
    "\n",
    "\n",
    "def opp_func(x):\n",
    "    teams = x[\"Game Info\"].split(\" \", 1)[0].split(\"@\")\n",
    "    return teams[1] if teams[0] == x[\"team\"] else teams[0]\n",
    "\n",
    "\n",
    "dk_cleaned_df[\"opp\"] = dk_cleaned_df.apply(opp_func, axis=1)\n",
    "dk_cleaned_df[\"date\"] = dk_cleaned_df[\"Game Info\"].apply(lambda x: x.split(\" \", 2)[1])\n",
    "dk_cleaned_df = dk_cleaned_df[[\"pos\", \"name\", \"cost\", \"team\", \"service\", \"opp\", \"date\"]]\n",
    "\n",
    "display(dk_cleaned_df)\n"
   ]
  },
  {
   "cell_type": "code",
   "execution_count": null,
   "metadata": {},
   "outputs": [],
   "source": [
    "# transform fanduel data\n",
    "fd_cleaned_df = fd_df.rename(\n",
    "    {\n",
    "        \"Position\": \"pos\",\n",
    "        \"First Name\": \"name\",\n",
    "        \"Salary\": \"cost\",\n",
    "        \"Team\": \"team\",\n",
    "        \"Opponent\": \"opp\",\n",
    "    },\n",
    "    axis=1,\n",
    ")\n",
    "fd_cleaned_df[\"date\"] = fd_cleaned_df[\"filename\"].apply(\n",
    "    lambda x: x.split(\"_\", 2)[2].split(\"-\", 1)[0]\n",
    ")\n",
    "fd_cleaned_df = fd_cleaned_df[\n",
    "    [\"pos\", \"name\", \"cost\", \"team\", \"service\", \"opp\", \"date\"]\n",
    "]\n",
    "display(fd_cleaned_df)"
   ]
  },
  {
   "cell_type": "code",
   "execution_count": null,
   "metadata": {},
   "outputs": [],
   "source": [
    "# combine data and add points\n",
    "def points_func(x):\n",
    "    # find the game based on team, opp and date\n",
    "    game_id: int\n",
    "    # get the stat ID based on service and team/player\n",
    "    stat_id: int\n",
    "    # storage for player/teams points\n",
    "    pts_df: pd.DataFrame\n",
    "    if x.pos == \"TEAM\":\n",
    "        # get team id\n",
    "        # pull all points data for the team (and cache it)\n",
    "        raise NotImplementedError()\n",
    "    else:\n",
    "        # get player id\n",
    "        # pull all points data for the player (and cache it)\n",
    "        raise NotImplementedError()\n",
    "    # calculate points based on date\n",
    "    pts_1: float\n",
    "    pts_5: float\n",
    "    pts_std: float\n",
    "    return {\"pts-1\": pts_1, \"pts-mean-5\": pts_5, \"pts-mean-std\": pts_std}\n",
    "\n",
    "\n",
    "data_df = pd.concat([dk_cleaned_df, fd_cleaned_df])\n",
    "pts_df = data_df.apply(\n",
    "    points_func, axis=1, result_type=\"expand\"\n",
    ")\n",
    "data_df = pd.concat([data_df, pts_df], axis=1)\n",
    "\n",
    "display(data_df)"
   ]
  },
  {
   "cell_type": "code",
   "execution_count": null,
   "metadata": {},
   "outputs": [],
   "source": [
    "# train/evaluate/export model using automl"
   ]
  }
 ],
 "metadata": {
  "kernelspec": {
   "display_name": "venv",
   "language": "python",
   "name": "python3"
  },
  "language_info": {
   "codemirror_mode": {
    "name": "ipython",
    "version": 3
   },
   "file_extension": ".py",
   "mimetype": "text/x-python",
   "name": "python",
   "nbconvert_exporter": "python",
   "pygments_lexer": "ipython3",
   "version": "3.10.6"
  },
  "orig_nbformat": 4,
  "vscode": {
   "interpreter": {
    "hash": "006d5deb8e6cdcd4312641bdf15f3bc20f0769a7305d81173599a7b40f33b4a2"
   }
  }
 },
 "nbformat": 4,
 "nbformat_minor": 2
}
