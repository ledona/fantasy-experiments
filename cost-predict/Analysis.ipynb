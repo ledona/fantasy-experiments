{
 "cells": [
  {
   "attachments": {},
   "cell_type": "markdown",
   "metadata": {},
   "source": [
    "# Cost Data Analysis\n",
    "Data review used to inform LOL slate generation "
   ]
  },
  {
   "cell_type": "code",
   "execution_count": null,
   "metadata": {},
   "outputs": [],
   "source": [
    "import os\n",
    "\n",
    "import pandas as pd\n",
    "\n",
    "cost_df = pd.read_csv(\n",
    "    os.path.join(os.environ[\"FANTASY_ARCHIVE_BASE\"], \"lol\", \"lol-cost.csv.gz\"),\n",
    "    parse_dates=[\"date\"],\n",
    ")\n",
    "display(cost_df)\n"
   ]
  },
  {
   "cell_type": "code",
   "execution_count": null,
   "metadata": {},
   "outputs": [],
   "source": [
    "from datetime import timedelta\n",
    "import sqlite3\n",
    "import cachetools\n",
    "\n",
    "from tqdm import tqdm\n",
    "\n",
    "\n",
    "DB_FILEPATH = os.path.join(os.environ[\"FANTASY_HOME\"], \"lol_hist_2014-2021.scored.db\")\n",
    "\n",
    "_GAME_ID_CACHE = cachetools.LRUCache(maxsize=128)\n",
    "\n",
    "\n",
    "def _game_id_cache_key(row, *args):\n",
    "    return (row[\"date\"].strftime(\"%Y-%m-%d\"),) + tuple(\n",
    "        sorted([row[\"team\"], row[\"opp\"]])\n",
    "    )\n",
    "\n",
    "\n",
    "@cachetools.cached(cache=_GAME_ID_CACHE, key=_game_id_cache_key)\n",
    "def _get_game_id(row, conn: sqlite3.Connection):\n",
    "    cursor = conn.cursor()\n",
    "    cursor.execute(\n",
    "        \"\"\"\n",
    "        SELECT game.id, game.date, home.league, away.league, home.abbr, away.abbr\n",
    "        FROM game\n",
    "        join team as home on game.home_team_id = home.id\n",
    "        join team as away on game.away_team_id = away.id\n",
    "        WHERE\n",
    "            date between ? and ?\n",
    "            and home.abbr in (?, ?)\n",
    "            and away.abbr in (?, ?)\n",
    "        \"\"\",\n",
    "        (\n",
    "            row[\"date\"].strftime(\"%Y-%m-%d\"),\n",
    "            (row[\"date\"] + timedelta(days=1)).strftime(\"%Y-%m-%d\"),\n",
    "            row[\"team\"],\n",
    "            row[\"opp\"],\n",
    "            row[\"team\"],\n",
    "            row[\"opp\"],\n",
    "        ),\n",
    "    )\n",
    "    result = cursor.fetchone()\n",
    "    if result is None:\n",
    "        return None\n",
    "    league = (\n",
    "        result[2]\n",
    "        if result[2] == result[3]\n",
    "        else f\"{result[2] or '?'}-{result[3] or '?'}\"\n",
    "    )\n",
    "    return {\n",
    "        \"game_id\": result[0],\n",
    "        \"date\": result[1],\n",
    "        \"league\": league,\n",
    "        \"home\": result[4],\n",
    "        \"away\": result[5],\n",
    "    }\n",
    "\n",
    "\n",
    "tqdm.pandas()\n",
    "\n",
    "_GAME_ID_CACHE.clear()\n",
    "conn = sqlite3.connect(f\"file:{DB_FILEPATH}?mode=ro\", uri=True)\n",
    "try:\n",
    "    game_info_df: pd.DataFrame = cost_df.progress_apply(\n",
    "        _get_game_id, axis=1, result_type=\"expand\", args=(conn,)\n",
    "    )\n",
    "finally:\n",
    "    conn.close()\n",
    "\n",
    "game_info_df[\"slate-id\"] = cost_df[\"slate-id\"]"
   ]
  },
  {
   "cell_type": "code",
   "execution_count": null,
   "metadata": {},
   "outputs": [],
   "source": [
    "unique_games_df = game_info_df.dropna().drop_duplicates().sort_values([\"slate-id\", \"date\"])\n",
    "with pd.option_context(\"display.max_rows\", None):\n",
    "    display(unique_games_df)\n"
   ]
  }
 ],
 "metadata": {
  "kernelspec": {
   "display_name": "venv",
   "language": "python",
   "name": "python3"
  },
  "language_info": {
   "codemirror_mode": {
    "name": "ipython",
    "version": 3
   },
   "file_extension": ".py",
   "mimetype": "text/x-python",
   "name": "python",
   "nbconvert_exporter": "python",
   "pygments_lexer": "ipython3",
   "version": "3.10.6"
  },
  "orig_nbformat": 4,
  "vscode": {
   "interpreter": {
    "hash": "006d5deb8e6cdcd4312641bdf15f3bc20f0769a7305d81173599a7b40f33b4a2"
   }
  }
 },
 "nbformat": 4,
 "nbformat_minor": 2
}
