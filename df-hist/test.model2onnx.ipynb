{
 "cells": [
  {
   "cell_type": "markdown",
   "metadata": {},
   "source": [
    "# Test notebook for tpot model generation -> onnx"
   ]
  },
  {
   "cell_type": "code",
   "execution_count": null,
   "metadata": {},
   "outputs": [],
   "source": [
    "import logging\n",
    "import log\n",
    "\n",
    "log.setup()\n",
    "\n",
    "LOGGER = logging.getLogger('test.model2onnx')\n",
    "LOGGER.info(\"logger ready\")\n",
    "\n",
    "RANDOM_SEED = 0\n",
    "\n",
    "AUTOML_PARAMS = {\n",
    "    'skautoml': {\n",
    "        'per_run_time_limit': 60, # 120,\n",
    "        'max_train_time': 60, # 900,\n",
    "        'n_jobs': 4,\n",
    "        'random_state': RANDOM_SEED,\n",
    "    },\n",
    "    'tpot': {\n",
    "        'population_size': 100,\n",
    "        'n_jobs': 4,\n",
    "        'verbosity': 2,\n",
    "        'max_train_time': 60, # 1200,\n",
    "        'generations': 100,\n",
    "        'early_stop': 15,\n",
    "        'template': 'Selector-Transformer-Regressor',\n",
    "        'random_state': RANDOM_SEED,\n",
    "    }\n",
    "}"
   ]
  },
  {
   "cell_type": "code",
   "execution_count": null,
   "metadata": {},
   "outputs": [],
   "source": [
    "from fantasy_py.lineup.strategy import Contest\n",
    "from fantasy_py.fantasy_types import ContestStyle\n",
    "\n",
    "from generate_train_test import generate_train_test, load_csv\n",
    "from automl import create_automl_model\n",
    "\n",
    "\n",
    "def generate_model(sport, service, style, contest_type, target, model_type):\n",
    "    print(f\"{sport=} {service=} {contest_type=} {style=} {target=}\")\n",
    "    df = load_csv(sport, service, style, contest_type, data_folder=\"data\")\n",
    "\n",
    "    model_data = generate_train_test(\n",
    "        df,\n",
    "        random_state=0,\n",
    "    )\n",
    "    (X_train, X_test, y_top_train, y_top_test,\n",
    "        y_last_win_train, y_last_win_test) = model_data\n",
    "    y_train, y_test = (\n",
    "        (y_top_train, y_top_test) \n",
    "        if target.startswith(\"top\") else \n",
    "        (y_last_win_train, y_last_win_test)\n",
    "    )\n",
    "    ml_params = dict(AUTOML_PARAMS[model_type])\n",
    "    cam_result = create_automl_model(\n",
    "        target,\n",
    "        framework=model_type,\n",
    "        X_train=X_train, y_train=y_train,\n",
    "        X_test=X_test, y_test=y_test,\n",
    "        **ml_params\n",
    "    )\n",
    "    return cam_result, X_train, y_train\n"
   ]
  },
  {
   "cell_type": "code",
   "execution_count": null,
   "metadata": {},
   "outputs": [],
   "source": [
    "target = \"top-score\"\n",
    "model_type = 'tpot'\n",
    "output_dir = \"eval_results\"\n",
    "model_result, X_train, y_train = generate_model(\"nfl\", \"fanduel\", \"CLASSIC\", \"FIFTY_FIFTY\", target, 'tpot')"
   ]
  },
  {
   "cell_type": "code",
   "execution_count": null,
   "metadata": {},
   "outputs": [],
   "source": [
    "from serialize import serialize_model\n",
    "\n",
    "serialize_ex = None\n",
    "try:\n",
    "    onnx_model = serialize_model(\n",
    "        model_result['model'], model_type,\n",
    "        X_train, y_train,\n",
    "        model_type + \"-\" + target,\n",
    "        model_folder=output_dir,\n",
    "        model_desc_folder=output_dir,\n",
    "    )\n",
    "except Exception as ex:\n",
    "    import traceback\n",
    "    traceback.print_exc(limit=None, chain=True)\n",
    "    serialize_ex = ex\n"
   ]
  }
 ],
 "metadata": {
  "kernelspec": {
   "display_name": "Python 3.10.4 64-bit",
   "language": "python",
   "name": "python3"
  },
  "language_info": {
   "codemirror_mode": {
    "name": "ipython",
    "version": 3
   },
   "file_extension": ".py",
   "mimetype": "text/x-python",
   "name": "python",
   "nbconvert_exporter": "python",
   "pygments_lexer": "ipython3",
   "version": "3.10.4"
  },
  "orig_nbformat": 4,
  "vscode": {
   "interpreter": {
    "hash": "006d5deb8e6cdcd4312641bdf15f3bc20f0769a7305d81173599a7b40f33b4a2"
   }
  }
 },
 "nbformat": 4,
 "nbformat_minor": 2
}
