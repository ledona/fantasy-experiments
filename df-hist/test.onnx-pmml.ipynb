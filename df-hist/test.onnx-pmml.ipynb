{
 "cells": [
  {
   "cell_type": "markdown",
   "metadata": {},
   "source": [
    "# Test onnx/pmml model usage"
   ]
  },
  {
   "cell_type": "code",
   "execution_count": null,
   "metadata": {},
   "outputs": [],
   "source": [
    "SPORT = \"nfl\"\n",
    "SERVICE = \"draftkings\"\n",
    "TARGET = \"top-score\"\n",
    "MODEL_TYPE = 'tpot'\n",
    "CONTEST_TYPE = \"FIFTY_FIFTY\"\n",
    "STYLE = \"CLASSIC\"\n",
    "FORMAT = \"pmml\"\n",
    "\n",
    "MODEL_DIR = \"eval_results\"\n",
    "DATA_FOLDER = \"data\"\n",
    "RANDOM_STATE = 0\n"
   ]
  },
  {
   "cell_type": "code",
   "execution_count": null,
   "metadata": {},
   "outputs": [],
   "source": [
    "\n",
    "import os\n",
    "\n",
    "import onnx\n",
    "from pypmml import Model\n",
    "\n",
    "\n",
    "def load_model(sport, service, style, contest_type, target, model_type, model_path, format):\n",
    "    \"\"\" load an onnx model for use \"\"\"\n",
    "    print(f\"loading model for {sport=} {service=} {contest_type=} {style=} {target=} {model_type=} {format=}\")\n",
    "    filepath = os.path.join(model_path, f\"{sport}-{service}-{style}-{contest_type}-{target}-{model_type}.{format}\")\n",
    "    if format == 'onnx':\n",
    "        model = onnx.load(filepath)\n",
    "        onnx.checker.check_model(model)\n",
    "        # print(\"inputs: \", [input.name for input in model.graph.input])\n",
    "        # print(\"outputs: \", [output.name for output in model.graph.output])    \n",
    "    else:\n",
    "        model = Model.load(filepath)\n",
    "    return model"
   ]
  },
  {
   "cell_type": "code",
   "execution_count": null,
   "metadata": {},
   "outputs": [],
   "source": [
    "from generate_train_test import generate_train_test, load_csv\n",
    "from automl import error_report\n",
    "import pandas as pd\n",
    "\n",
    "df = load_csv(SPORT, SERVICE, STYLE, CONTEST_TYPE, data_folder=DATA_FOLDER)\n",
    "display(df)\n",
    "model_data = generate_train_test(\n",
    "    df,\n",
    "    random_state=RANDOM_STATE,\n",
    ")\n",
    "X_test: pd.DataFrame\n",
    "(X_train, X_test, y_top_train, y_top_test,\n",
    "    y_last_win_train, y_last_win_test) = model_data\n",
    "y_test = y_top_test if TARGET == \"top-score\" else y_last_win_test"
   ]
  },
  {
   "cell_type": "code",
   "execution_count": null,
   "metadata": {},
   "outputs": [],
   "source": [
    "import numpy as np\n",
    "\n",
    "model = load_model(SPORT, SERVICE, STYLE, CONTEST_TYPE, TARGET, MODEL_TYPE, MODEL_DIR, FORMAT)\n",
    "print(f\"{model=}\")\n",
    "# error_report(\n",
    "#     model, X_test, y_test, \n",
    "#     desc=f\"{SPORT=} {SERVICE=} {STYLE=} {CONTEST_TYPE=} {TARGET=} {MODEL_TYPE=} {FORMAT=}\"\n",
    "# )\n",
    "predictions = model.predict(X_test)\n",
    "display(\"model predictions:\", predictions)\n",
    "# display(\"x:\", X_test)\n",
    "# display(\"y:\", y_test)\n",
    "nans = pd.isna(predictions[predictions.columns[0]])\n",
    "np.count_nonzero(nans)"
   ]
  }
 ],
 "metadata": {
  "kernelspec": {
   "display_name": "Python 3.10.4 64-bit",
   "language": "python",
   "name": "python3"
  },
  "language_info": {
   "codemirror_mode": {
    "name": "ipython",
    "version": 3
   },
   "file_extension": ".py",
   "mimetype": "text/x-python",
   "name": "python",
   "nbconvert_exporter": "python",
   "pygments_lexer": "ipython3",
   "version": "3.10.4"
  },
  "orig_nbformat": 4,
  "vscode": {
   "interpreter": {
    "hash": "006d5deb8e6cdcd4312641bdf15f3bc20f0769a7305d81173599a7b40f33b4a2"
   }
  }
 },
 "nbformat": 4,
 "nbformat_minor": 2
}
