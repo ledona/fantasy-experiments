{
 "cells": [
  {
   "cell_type": "code",
   "execution_count": null,
   "metadata": {},
   "outputs": [],
   "source": [
    "# Load Data\n",
    "import pandas as pd\n",
    "import numpy as np\n",
    "\n",
    "VERBOSE = False\n",
    "\n",
    "# NHL\n",
    "pos_groups = [None, ['G'], ['LW', 'RW', 'C', 'D']]\n",
    "rotowire_file = \"/home/delano/Google Drive/fantasy/nhl/external-projections/rotowire_all.csv\"\n",
    "rotogrinder_file = \"/home/delano/Google Drive/fantasy/nhl/external-projections/grinder_all.csv\"\n",
    "fantasy_file = \"/home/delano/scratch/nhl-prediction-dump.csv\"\n",
    "\n",
    "rotowire_df = pd.read_csv(rotowire_file)\n",
    "if VERBOSE:\n",
    "    display(\"rotowire\")\n",
    "    display(rotowire_df)\n",
    "rotogrinder_df = pd.read_csv(rotogrinder_file)\n",
    "if VERBOSE:\n",
    "    display(\"rotogrinder\")\n",
    "    display(rotogrinder_df)\n",
    "fantasy_df = pd.read_csv(fantasy_file)\n",
    "if VERBOSE:\n",
    "    display(\"fantasy\")\n",
    "    display(fantasy_df)"
   ]
  },
  {
   "cell_type": "code",
   "execution_count": null,
   "metadata": {},
   "outputs": [],
   "source": [
    "rotowire_pts_df = rotowire_df[rotowire_df['START'] == 'Yes'].rename(columns={rotowire_df.columns[1]: 'player'})\n",
    "rotowire_pts_df['service'] = rotowire_pts_df.apply(lambda row: 'rotowire:' + row[0].split('.')[1], axis=1)\n",
    "rotowire_pts_df['date'] = pd.to_datetime(rotowire_pts_df.apply(lambda row: row[0].split('.')[2], axis=1))\n",
    "\n",
    "rotowire_pts_df = rotowire_pts_df.pivot_table(index=['date', 'player'], values='FPTS', columns='service')\n",
    "if VERBOSE:\n",
    "    display(rotowire_pts_df)"
   ]
  },
  {
   "cell_type": "code",
   "execution_count": null,
   "metadata": {},
   "outputs": [],
   "source": [
    "rotogrinder_pts_df = rotogrinder_df\n",
    "rotogrinder_pts_df['service'] = rotogrinder_pts_df.apply(lambda row: 'rotogrinder:' + row.file.split('.')[1], axis=1)\n",
    "rotogrinder_pts_df['date'] = pd.to_datetime(rotogrinder_pts_df.apply(lambda row: row.file.split('.')[2], axis=1))\n",
    "\n",
    "rotogrinder_pts_df = rotogrinder_pts_df.pivot_table(index=['date', 'player'], values='pts', columns='service')\n",
    "if VERBOSE:\n",
    "    display(rotogrinder_pts_df)"
   ]
  },
  {
   "cell_type": "code",
   "execution_count": null,
   "metadata": {},
   "outputs": [],
   "source": [
    "fantasy_pts_df = fantasy_df.copy()[~np.isnan(fantasy_df['player_id'])]\n",
    "fantasy_pts_df['player'] = fantasy_pts_df.apply(lambda row: row.first_name + ' ' + row.last_name, axis=1)\n",
    "fantasy_cols = ['date', 'team', 'pos', 'player'] + \\\n",
    "    [col for col in fantasy_pts_df.columns if ':' in col and 'goal' not in col]\n",
    "fantasy_pts_df = fantasy_pts_df[fantasy_cols]\n",
    "fantasy_pts_df = fantasy_pts_df.rename(columns=lambda col: col.split('_')[0] if '_' in col else col)\n",
    "fantasy_pts_df['date'] = pd.to_datetime(fantasy_pts_df.date)\n",
    "\n",
    "if VERBOSE:\n",
    "    display(fantasy_pts_df)"
   ]
  },
  {
   "cell_type": "code",
   "execution_count": null,
   "metadata": {},
   "outputs": [],
   "source": [
    "# merge data\n",
    "merged_df = fantasy_pts_df.join(rotowire_pts_df, on=['date', 'player'], how='left') \\\n",
    "                          .join(rotogrinder_pts_df, on=['date', 'player'], how='left') \\\n",
    "\n",
    "if VERBOSE:\n",
    "    display(merged_df)"
   ]
  },
  {
   "cell_type": "code",
   "execution_count": null,
   "metadata": {},
   "outputs": [],
   "source": [
    "from sklearn.metrics import mean_absolute_error, r2_score\n",
    "\n",
    "services = []\n",
    "predictors = []\n",
    "mae = []\n",
    "r2 = []\n",
    "positions = []\n",
    "\n",
    "def analyze_performance(df, true_col, pred_col, pos):\n",
    "    if pos is not None:\n",
    "        df = df[df.pos.isin(pos)]\n",
    "    services.append(service)\n",
    "    predictors.append(predictor)\n",
    "    mae.append(mean_absolute_error(df[true_col], df[pred_col]))\n",
    "    r2.append(r2_score(df[true_col], df[pred_col]))\n",
    "    positions.append(pos)\n",
    "    \n",
    "\n",
    "for service in ['y', 'dk', 'fd']:\n",
    "    true_col = 'calc:' + service\n",
    "    for predictor in ['pred', 'rotogrinder', 'rotowire']:\n",
    "        pred_col = predictor + ':' + service\n",
    "        df = merged_df[~np.isnan(merged_df[pred_col])]\n",
    "        \n",
    "        for pos in pos_groups:\n",
    "            analyze_performance(df, true_col, pred_col, pos)\n",
    "        \n",
    "scores_df = pd.DataFrame({\n",
    "    'service': services,\n",
    "    'predictor': predictors,\n",
    "    'pos': positions,\n",
    "    'mae': mae,\n",
    "    'r2': r2\n",
    "})\n",
    "    \n",
    "scores_df"
   ]
  },
  {
   "cell_type": "code",
   "execution_count": null,
   "metadata": {},
   "outputs": [],
   "source": [
    "import matplotlib.pyplot as plt\n",
    "\n",
    "fig, axes = plt.subplots(3 * 3 * len(pos_groups), 2, figsize=(10, 150))\n",
    "sns.set(style=\"whitegrid\")\n",
    "\n",
    "axis_i = 0\n",
    "\n",
    "for service in ['y', 'dk', 'fd']:\n",
    "    true_col = 'calc:' + service\n",
    "    for predictor in ['pred', 'rotogrinder', 'rotowire']:\n",
    "        pred_col = predictor + ':' + service\n",
    "        df = merged_df[~np.isnan(merged_df[pred_col])].copy()\n",
    "        df['residual'] = df[true_col] - df[pred_col]\n",
    "        min_pts = min(df[true_col].min(), df[pred_col].min()) - 3\n",
    "        max_pts = max(df[true_col].max(), df[pred_col].max()) + 4\n",
    "        \n",
    "        for pos in pos_groups:\n",
    "            pos_df = df[df.pos.isin(pos)] if pos is not None else df\n",
    "            \n",
    "            # plot pred vs true\n",
    "            axes[axis_i, 0].set_xlim(min_pts, max_pts)\n",
    "            axes[axis_i, 0].set_ylim(min_pts, max_pts)\n",
    "            \n",
    "            axes[axis_i, 0].set_title('{}:{}:{} (n={})'.format(predictor, service, pos or 'all', len(pos_df)))\n",
    "            axes[axis_i, 0].set_xlabel(true_col)\n",
    "            axes[axis_i, 0].set_ylabel(pred_col)\n",
    "            axes[axis_i, 0].scatter(pos_df[true_col], pos_df[pred_col])\n",
    "            \n",
    "            # plot of residuals\n",
    "            axes[axis_i, 1].set_xlim(min_pts, max_pts)\n",
    "            axes[axis_i, 1].set_ylim(min_pts, max_pts)\n",
    "            \n",
    "            axes[axis_i, 1].set_title('{}:{}:{} residual (n={})'.format(predictor, service, pos or 'all', len(pos_df)))\n",
    "            axes[axis_i, 1].set_xlabel(true_col)\n",
    "            axes[axis_i, 1].set_ylabel(pred_col + ' residual')\n",
    "            axes[axis_i, 1].scatter(pos_df[true_col], pos_df['residual'])\n",
    "            \n",
    "            axis_i += 1"
   ]
  },
  {
   "cell_type": "code",
   "execution_count": null,
   "metadata": {},
   "outputs": [],
   "source": []
  }
 ],
 "metadata": {
  "kernelspec": {
   "display_name": "Python 3",
   "language": "python",
   "name": "python3"
  },
  "language_info": {
   "codemirror_mode": {
    "name": "ipython",
    "version": 3
   },
   "file_extension": ".py",
   "mimetype": "text/x-python",
   "name": "python",
   "nbconvert_exporter": "python",
   "pygments_lexer": "ipython3",
   "version": "3.7.6"
  }
 },
 "nbformat": 4,
 "nbformat_minor": 4
}
