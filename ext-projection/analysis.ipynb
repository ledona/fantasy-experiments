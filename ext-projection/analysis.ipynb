{
 "cells": [
  {
   "cell_type": "code",
   "execution_count": 119,
   "metadata": {},
   "outputs": [],
   "source": [
    "# Load Data\n",
    "import pandas as pd\n",
    "import numpy as np\n",
    "\n",
    "VERBOSE = False\n",
    "\n",
    "rotowire_file = \"/home/delano/Google Drive/fantasy/nhl/external-projections/rotowire_all.csv\"\n",
    "rotogrinder_file = \"/home/delano/Google Drive/fantasy/nhl/external-projections/grinder_all.csv\"\n",
    "fantasy_file = \"/home/delano/scratch/nhl-prediction-dump.csv\"\n",
    "\n",
    "rotowire_df = pd.read_csv(rotowire_file)\n",
    "rotogrinder_df = pd.read_csv(rotogrinder_file)\n",
    "fantasy_df = pd.read_csv(fantasy_file)"
   ]
  },
  {
   "cell_type": "code",
   "execution_count": 120,
   "metadata": {},
   "outputs": [],
   "source": [
    "rotowire_pts_df = rotowire_df.rename(columns={rotowire_df.columns[1]: 'player'})\n",
    "rotowire_pts_df['service'] = rotowire_pts_df.apply(lambda row: 'rotowire:' + row[0].split('.')[1], axis=1)\n",
    "rotowire_pts_df['date'] = pd.to_datetime(rotowire_pts_df.apply(lambda row: row[0].split('.')[2], axis=1))\n",
    "\n",
    "rotowire_pts_df = rotowire_pts_df.pivot_table(index=['date', 'player'], values='FPTS', columns='service')\n",
    "if VERBOSE:\n",
    "    display(rotowire_pts_df)"
   ]
  },
  {
   "cell_type": "code",
   "execution_count": 121,
   "metadata": {},
   "outputs": [],
   "source": [
    "rotogrinder_pts_df = rotogrinder_df\n",
    "rotogrinder_pts_df['service'] = rotogrinder_pts_df.apply(lambda row: 'rotogrinder:' + row.file.split('.')[1], axis=1)\n",
    "rotogrinder_pts_df['date'] = pd.to_datetime(rotogrinder_pts_df.apply(lambda row: row.file.split('.')[2], axis=1))\n",
    "\n",
    "rotogrinder_pts_df = rotogrinder_pts_df.pivot_table(index=['date', 'player'], values='pts', columns='service')\n",
    "if VERBOSE:\n",
    "    display(rotogrinder_pts_df)"
   ]
  },
  {
   "cell_type": "code",
   "execution_count": 122,
   "metadata": {},
   "outputs": [],
   "source": [
    "fantasy_pts_df = fantasy_df.copy()[~np.isnan(fantasy_df['player_id'])]\n",
    "fantasy_pts_df['player'] = fantasy_pts_df.apply(lambda row: row.first_name + ' ' + row.last_name, axis=1)\n",
    "fantasy_cols = ['date', 'team', 'pos', 'player'] + \\\n",
    "    [col for col in fantasy_pts_df.columns if ':' in col and 'goal' not in col]\n",
    "fantasy_pts_df = fantasy_pts_df[fantasy_cols]\n",
    "fantasy_pts_df = fantasy_pts_df.rename(columns=lambda col: col.split('_')[0] if '_' in col else col)\n",
    "fantasy_pts_df['date'] = pd.to_datetime(fantasy_pts_df.date)\n",
    "\n",
    "if VERBOSE:\n",
    "    display(fantasy_pts_df)"
   ]
  },
  {
   "cell_type": "code",
   "execution_count": 123,
   "metadata": {},
   "outputs": [],
   "source": [
    "merged_df = fantasy_pts_df.join(rotowire_pts_df, on=['date', 'player'], how='left') \\\n",
    "                          .join(rotogrinder_pts_df, on=['date', 'player'], how='left') \\\n",
    "\n",
    "if VERBOSE:\n",
    "    display(merged_df)"
   ]
  },
  {
   "cell_type": "code",
   "execution_count": null,
   "metadata": {},
   "outputs": [],
   "source": []
  }
 ],
 "metadata": {
  "kernelspec": {
   "display_name": "Python 3",
   "language": "python",
   "name": "python3"
  },
  "language_info": {
   "codemirror_mode": {
    "name": "ipython",
    "version": 3
   },
   "file_extension": ".py",
   "mimetype": "text/x-python",
   "name": "python",
   "nbconvert_exporter": "python",
   "pygments_lexer": "ipython3",
   "version": "3.7.6"
  }
 },
 "nbformat": 4,
 "nbformat_minor": 4
}
