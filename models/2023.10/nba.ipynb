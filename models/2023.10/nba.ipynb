{
 "cells": [
  {
   "attachments": {},
   "cell_type": "markdown",
   "metadata": {},
   "source": [
    "# NBA Models\n",
    "\n",
    "## Data Export\n",
    "```\n",
    "DB_FILE=${FANTASY_HOME}/nba_hist_20082009-20212022.scored.db\n",
    "SEASONS=\"20152016 20162017 20172018 20182019 20192020 20202021 20212022\"\n",
    "\n",
    "# player\n",
    "dumpdata.sc --seasons $SEASONS --progress $DB_FILE --no_teams \\\n",
    "    --stats \"*\" --target_calc_stats \"*\" \\\n",
    "    --player_team_stats \"*\" --opp_team_stats \"*\" \\\n",
    "    --hist_recent_games 5 --hist_recent_mode ma --current_extra is_home \\\n",
    "    --format parquet -f nba_player.pq\n",
    "\n",
    "# team\n",
    "dumpdata.sc --seasons $SEASONS --progress $DB_FILE --no_players \\\n",
    "    --stats \"*\" --target_stats pts win \\\n",
    "    --opp_team_stats \"*\" \\\n",
    "    --hist_recent_games 5 --hist_recent_mode ma --current_extra is_home \\\n",
    "    --format parquet -f nba_team.pq\n",
    "```"
   ]
  },
  {
   "cell_type": "code",
   "execution_count": null,
   "metadata": {},
   "outputs": [],
   "source": [
    "RANDOM_SEED = 1\n",
    "TRAINING_TIME = 600\n",
    "VALIDATION_SEASON = 20212022\n",
    "RECENT_GAMES = 5\n",
    "TRAINING_SEASONS = [20152016, 20162017, 20172018, 20182019, 20192020, 20202021]\n",
    "REUSE_EXISTING = False\n",
    "MISSING_DATA_THRESHOLD = .07"
   ]
  },
  {
   "cell_type": "code",
   "execution_count": null,
   "metadata": {},
   "outputs": [],
   "source": [
    "import sys\n",
    "\n",
    "sys.path.append(\"..\")\n",
    "\n",
    "from fantasy_py import PlayerOrTeam\n",
    "from train_test import load_data, model_and_test\n",
    "\n",
    "TARGET = (\"stat\", \"pts\")\n",
    "MODEL_NAME = \"NBA-team-pts\"\n",
    "DATA_FILENAME = \"nba_team.pq\"\n",
    "P_OR_T = PlayerOrTeam.TEAM\n",
    "INCLUDE_POS = None\n",
    "\n",
    "# TARGET = (\"stat\", \"win\")\n",
    "# MODEL_NAME = \"NBA-team-win\"\n",
    "# DATA_FILENAME = \"nba_team.pq\"\n",
    "# P_OR_T = \"T\"\n",
    "# INCLUDE_POS = None\n",
    "\n",
    "# TARGET = (\"calc\", \"dk_score\")\n",
    "# MODEL_NAME = \"NBA-DK\"\n",
    "# DATA_FILENAME = \"nba_player.pq\"\n",
    "# P_OR_T = PlayerOrTeam.PLAYER\n",
    "# INCLUDE_POS = True\n",
    "\n",
    "raw_df, tt_data, one_hot_stats = load_data(\n",
    "    DATA_FILENAME,\n",
    "    TARGET,\n",
    "    VALIDATION_SEASON,\n",
    "    seed=RANDOM_SEED,\n",
    "    include_position=INCLUDE_POS,\n",
    "    missing_data_threshold=MISSING_DATA_THRESHOLD,\n",
    ")\n",
    "\n",
    "assert one_hot_stats is None\n",
    "\n",
    "for automl_type in [\"tpot\"]:  # , \"autosk\"]:\n",
    "    model = model_and_test(\n",
    "        MODEL_NAME,\n",
    "        VALIDATION_SEASON,\n",
    "        tt_data,\n",
    "        TARGET,\n",
    "        TRAINING_TIME,\n",
    "        automl_type,\n",
    "        P_OR_T,\n",
    "        RECENT_GAMES,\n",
    "        TRAINING_SEASONS,\n",
    "        seed=RANDOM_SEED,\n",
    "        raw_df=raw_df,\n",
    "        reuse_existing=REUSE_EXISTING,\n",
    "    )"
   ]
  }
 ],
 "metadata": {
  "kernelspec": {
   "display_name": "venv",
   "language": "python",
   "name": "python3"
  },
  "language_info": {
   "codemirror_mode": {
    "name": "ipython",
    "version": 3
   },
   "file_extension": ".py",
   "mimetype": "text/x-python",
   "name": "python",
   "nbconvert_exporter": "python",
   "pygments_lexer": "ipython3",
   "version": "3.11.5"
  },
  "orig_nbformat": 4
 },
 "nbformat": 4,
 "nbformat_minor": 2
}
