{
 "cells": [
  {
   "attachments": {},
   "cell_type": "markdown",
   "metadata": {},
   "source": [
    "# NHL Models\n",
    "\n",
    "## Data Export\n",
    "```\n",
    "# dump player data\n",
    "dumpdata.sc --seasons 20152016 20162017 20172018 20182019 20192020 20202021 20212022 --stats \"*\" --calc_stats \"*\" --progress nhl_hist_20072008-20212022.scored.db --no_players --target_calc_stats DKnhl FDnhl Ynhl --hist_recent_games 5 --hist_recent_mode ma --extra_stats \"*\" -f nhl_train_team.csv\n",
    "```"
   ]
  },
  {
   "cell_type": "code",
   "execution_count": null,
   "metadata": {},
   "outputs": [],
   "source": [
    "import pandas as pd\n",
    "\n",
    "RANDOM_SEED = 1\n",
    "TRAINING_TIME = 1200\n",
    "VALIDATION_SEASON = 2022\n",
    "TARGET_FEATURE = \"calc:dk_performance_score\"\n",
    "\n",
    "df = pd.read_csv(\"/fantasy/lol_train_player.csv\")\n",
    "df.pos = df.pos.astype(str)\n"
   ]
  },
  {
   "cell_type": "code",
   "execution_count": null,
   "metadata": {},
   "outputs": [],
   "source": [
    "import sklearn.model_selection\n",
    "\n",
    "cleaned_df = pd.get_dummies(df, columns=[\"pos\"])\n",
    "cleaned_df[\"extra:is_home\"] = df[\"extra:is_home\"].astype(int)\n",
    "feature_cols = [\n",
    "    col\n",
    "    for col in cleaned_df\n",
    "    if col == \"pos\" or col.startswith(\"extra\") or \":recent\" in col or \":std\" in col\n",
    "]\n",
    "\n",
    "train_test_df = cleaned_df.query(\"season != @VALIDATION_SEASON\")\n",
    "\n",
    "X = train_test_df[feature_cols]\n",
    "y = train_test_df[TARGET_FEATURE]\n",
    "X_train, X_test, y_train, y_test = sklearn.model_selection.train_test_split(\n",
    "    X, y, random_state=RANDOM_SEED\n",
    ")\n",
    "\n",
    "validation_df = cleaned_df.query(\"season == @VALIDATION_SEASON\")\n",
    "X_val = validation_df[feature_cols]\n",
    "y_val = validation_df[TARGET_FEATURE]\n",
    "print(\n",
    "    f\"Training will use {len(feature_cols)} features, {len(X_train)} training cases, {len(X_test)} test cases, {len(X_val)} validation test cases\",\n",
    ")"
   ]
  },
  {
   "cell_type": "code",
   "execution_count": null,
   "metadata": {},
   "outputs": [],
   "source": [
    "import autosklearn.regression\n",
    "import sklearn.model_selection\n",
    "import sklearn.metrics\n",
    "from pprint import pprint\n",
    "\n",
    "sk_automl = autosklearn.regression.AutoSklearnRegressor(\n",
    "    seed=RANDOM_SEED, time_left_for_this_task=TRAINING_TIME, memory_limit=-1\n",
    ")\n",
    "sk_automl.fit(X_train, y_train)\n",
    "print(sk_automl.leaderboard())\n",
    "pprint(sk_automl.show_models(), indent=4)\n",
    "\n",
    "y_hat = sk_automl.predict(X_test)\n",
    "print(\"Test R2 score:\", sklearn.metrics.r2_score(y_test, y_hat))\n",
    "y_hat_val = sk_automl.predict(X_val)\n",
    "print(\"Validation R2 score:\", sklearn.metrics.r2_score(y_val, y_hat_val))\n"
   ]
  },
  {
   "cell_type": "code",
   "execution_count": null,
   "metadata": {},
   "outputs": [],
   "source": [
    "from tpot import TPOTRegressor\n",
    "\n",
    "tpot_automl = TPOTRegressor(\n",
    "    random_state=RANDOM_SEED,\n",
    "    max_time_mins=TRAINING_TIME / 60,\n",
    "    verbosity=2,\n",
    ")\n",
    "tpot_automl.fit(X_train, y_train)\n",
    "pprint(tpot_automl.fitted_pipeline_)\n",
    "\n",
    "y_hat = tpot_automl.predict(X_test)\n",
    "print(\"Test R2 score:\", sklearn.metrics.r2_score(y_test, y_hat))\n",
    "y_hat_val = tpot_automl.predict(X_val)\n",
    "print(\"Validation R2 score:\", sklearn.metrics.r2_score(y_val, y_hat_val))"
   ]
  }
 ],
 "metadata": {
  "kernelspec": {
   "display_name": "venv",
   "language": "python",
   "name": "python3"
  },
  "language_info": {
   "codemirror_mode": {
    "name": "ipython",
    "version": 3
   },
   "file_extension": ".py",
   "mimetype": "text/x-python",
   "name": "python",
   "nbconvert_exporter": "python",
   "pygments_lexer": "ipython3",
   "version": "3.11.1"
  },
  "orig_nbformat": 4
 },
 "nbformat": 4,
 "nbformat_minor": 2
}
