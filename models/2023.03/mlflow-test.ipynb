{
 "cells": [
  {
   "attachments": {},
   "cell_type": "markdown",
   "metadata": {},
   "source": [
    "## MLFlow Tester and Uploader\n",
    "The following will create a local tracking server and will use a remote sftp\n",
    "for artifact storage\n",
    "```\n",
    "sudo apt install python3.10-venv\n",
    "python3.10 -m venv venv-mlflow\n",
    "./venv-mlflow/bin/pip install mlflow pysftp\n",
    "```\n",
    "Then select the environment as the notebook kernel (may need to refresh the list of available environs)\n",
    "\n",
    "To start the server...\n",
    "```\n",
    "source ./venv-mlflow/bin/activate\n",
    "mlflow server --backend-store-uri /fantasy-experiments/models/mlflow \\\n",
    "    --default-artifact-root sftp://monkey-king/Users/delano/Archive/fantasy-models \\\n",
    "    --no-serve-artifacts\n",
    "```"
   ]
  },
  {
   "cell_type": "code",
   "execution_count": null,
   "metadata": {},
   "outputs": [],
   "source": [
    "from glob import glob\n",
    "import json\n",
    "\n",
    "import mlflow\n",
    "\n",
    "EXPERIMENT_NAME = \"2023.03 : new-models\"\n",
    "MLFLOW_TRACKING_URI = \"http://localhost:5000\"\n",
    "\n",
    "mlflow.set_tracking_uri(MLFLOW_TRACKING_URI)\n",
    "\n",
    "experiment = mlflow.get_experiment_by_name(EXPERIMENT_NAME)\n",
    "if experiment is None:\n",
    "    print(\"creating experiment\")\n",
    "    experiment_id = mlflow.create_experiment(\n",
    "        EXPERIMENT_NAME,\n",
    "    )\n",
    "    experiment = mlflow.get_experiment(experiment_id)\n",
    "else:\n",
    "    print(\"experiment already exists\")\n",
    "display(experiment)\n",
    "\n",
    "for filename in glob(\"MLB*model\"):\n",
    "    print(f\"processing {filename}\")\n",
    "    with open(filename, \"r\") as f_:\n",
    "        model_json = json.load(f_)\n",
    "    # print(model_json)\n",
    "\n",
    "    tags = {\n",
    "        \"name\": model_json[\"name\"],\n",
    "        \"sport\": model_json[\"name\"].split(\"-\", 1)[0],\n",
    "        \"dt_trained\": model_json[\"dt_trained\"],\n",
    "    }\n",
    "    params = model_json[\"parameters\"]\n",
    "    artifacts = [filename, model_json[\"trained_parameters\"][\"regressor_path\"]]\n",
    "    performance = {\n",
    "        k_: v_\n",
    "        for k_, v_ in model_json[\"meta_extra\"][\"performance\"].items()\n",
    "        if k_ != \"season\"\n",
    "    }\n",
    "    params[\"target\"] = \":\".join(model_json[\"training_data_def\"][\"target\"])\n",
    "    display(\"tags\", tags, f\"{performance=}\", \"artifacts\", artifacts, \"params\", params)\n",
    "\n",
    "    with mlflow.start_run(experiment_id=experiment.experiment_id) as active_run:\n",
    "        mlflow.log_metrics(performance)\n",
    "        mlflow.log_params(params)\n",
    "        mlflow.set_tags(tags)\n",
    "        for artifact in artifacts:\n",
    "            mlflow.log_artifact(artifact)\n",
    "\n",
    "        display(\"Active Run\", active_run.to_dictionary())\n",
    "\n"
   ]
  }
 ],
 "metadata": {
  "kernelspec": {
   "display_name": "venv",
   "language": "python",
   "name": "python3"
  },
  "language_info": {
   "codemirror_mode": {
    "name": "ipython",
    "version": 3
   },
   "file_extension": ".py",
   "mimetype": "text/x-python",
   "name": "python",
   "nbconvert_exporter": "python",
   "pygments_lexer": "ipython3",
   "version": "3.10.6"
  },
  "orig_nbformat": 4
 },
 "nbformat": 4,
 "nbformat_minor": 2
}
