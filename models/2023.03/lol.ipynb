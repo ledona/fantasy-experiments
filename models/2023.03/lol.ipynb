{
 "cells": [
  {
   "attachments": {},
   "cell_type": "markdown",
   "metadata": {},
   "source": [
    "# LOL Models\n",
    "\n",
    "## Data Export\n",
    "For LOL modeling is done for performance score because that is the per game score which\n",
    "translates better across different leagues\n",
    "```\n",
    "# player LOL data\n",
    "dumpdata.sc --seasons 2016 2017 2018 2019 2020 2021 2022 --stats \"*\" --progress lol_hist_2014-2022.scored.db \\\n",
    "    --no_teams --target_calc_stats \"*performance_score\" --hist_recent_games 3 \\\n",
    "    --hist_recent_mode ma -f lol_player.csv\n",
    "\n",
    "# team LOL data\n",
    "dumpdata.sc --seasons 2014 2015 2016 2017 2018 2019 2020 2021 2022 --stats \"*\" --progress \\\n",
    "    lol_hist_2014-2022.scored.db --no_players --target_calc_stats \"*performance_score\" \\\n",
    "    --extra match-win --current_extra match-win \\\n",
    "    --hist_recent_games 3 --hist_recent_mode ma \\\n",
    "    -f lol_team.csv\n",
    "```"
   ]
  },
  {
   "cell_type": "code",
   "execution_count": 1,
   "metadata": {},
   "outputs": [],
   "source": [
    "RANDOM_SEED = 1\n",
    "TRAINING_TIME = 600\n",
    "VALIDATION_SEASON = 2022\n",
    "RECENT_GAMES = 3\n"
   ]
  },
  {
   "cell_type": "code",
   "execution_count": 2,
   "metadata": {},
   "outputs": [
    {
     "name": "stdout",
     "output_type": "stream",
     "text": [
      "Loading log filters from '/fantasy/log-filter.yaml'\n",
      "Loading data from '/fantasy/lol_team.csv'\n",
      "Include player position set to None\n",
      "One-hot encoding features: []\n"
     ]
    },
    {
     "ename": "KeyError",
     "evalue": "'extra:is_home'",
     "output_type": "error",
     "traceback": [
      "\u001b[0;31m---------------------------------------------------------------------------\u001b[0m",
      "\u001b[0;31mKeyError\u001b[0m                                  Traceback (most recent call last)",
      "File \u001b[0;32m/venv/lib/python3.11/site-packages/pandas/core/indexes/base.py:3802\u001b[0m, in \u001b[0;36mIndex.get_loc\u001b[0;34m(self, key, method, tolerance)\u001b[0m\n\u001b[1;32m   3801\u001b[0m \u001b[39mtry\u001b[39;00m:\n\u001b[0;32m-> 3802\u001b[0m     \u001b[39mreturn\u001b[39;00m \u001b[39mself\u001b[39;49m\u001b[39m.\u001b[39;49m_engine\u001b[39m.\u001b[39;49mget_loc(casted_key)\n\u001b[1;32m   3803\u001b[0m \u001b[39mexcept\u001b[39;00m \u001b[39mKeyError\u001b[39;00m \u001b[39mas\u001b[39;00m err:\n",
      "File \u001b[0;32m/venv/lib/python3.11/site-packages/pandas/_libs/index.pyx:138\u001b[0m, in \u001b[0;36mpandas._libs.index.IndexEngine.get_loc\u001b[0;34m()\u001b[0m\n",
      "File \u001b[0;32m/venv/lib/python3.11/site-packages/pandas/_libs/index.pyx:165\u001b[0m, in \u001b[0;36mpandas._libs.index.IndexEngine.get_loc\u001b[0;34m()\u001b[0m\n",
      "File \u001b[0;32mpandas/_libs/hashtable_class_helper.pxi:5745\u001b[0m, in \u001b[0;36mpandas._libs.hashtable.PyObjectHashTable.get_item\u001b[0;34m()\u001b[0m\n",
      "File \u001b[0;32mpandas/_libs/hashtable_class_helper.pxi:5753\u001b[0m, in \u001b[0;36mpandas._libs.hashtable.PyObjectHashTable.get_item\u001b[0;34m()\u001b[0m\n",
      "\u001b[0;31mKeyError\u001b[0m: 'extra:is_home'",
      "\nThe above exception was the direct cause of the following exception:\n",
      "\u001b[0;31mKeyError\u001b[0m                                  Traceback (most recent call last)",
      "Cell \u001b[0;32mIn[2], line 23\u001b[0m\n\u001b[1;32m      9\u001b[0m INCLUDE_POS \u001b[39m=\u001b[39m \u001b[39mNone\u001b[39;00m\n\u001b[1;32m     11\u001b[0m \u001b[39m# TARGET = (\"calc\", \"dk_performance_score\")\u001b[39;00m\n\u001b[1;32m     12\u001b[0m \u001b[39m# MODEL_NAME = \"LOL-team-DK\"\u001b[39;00m\n\u001b[1;32m     13\u001b[0m \u001b[39m# DATA_FILENAME = \"/fantasy/lol_team.csv\"\u001b[39;00m\n\u001b[0;32m   (...)\u001b[0m\n\u001b[1;32m     20\u001b[0m \u001b[39m# P_OR_T = \"P\"\u001b[39;00m\n\u001b[1;32m     21\u001b[0m \u001b[39m# INCLUDE_POS = True\u001b[39;00m\n\u001b[0;32m---> 23\u001b[0m df, tt_data \u001b[39m=\u001b[39m load_data(\n\u001b[1;32m     24\u001b[0m     DATA_FILENAME,\n\u001b[1;32m     25\u001b[0m     TARGET,\n\u001b[1;32m     26\u001b[0m     VALIDATION_SEASON,\n\u001b[1;32m     27\u001b[0m     seed\u001b[39m=\u001b[39;49mRANDOM_SEED,\n\u001b[1;32m     28\u001b[0m     include_position\u001b[39m=\u001b[39;49mINCLUDE_POS,\n\u001b[1;32m     29\u001b[0m )\n\u001b[1;32m     31\u001b[0m \u001b[39m# for automl_type in [\"tpot\", \"autosk\"]:\u001b[39;00m\n\u001b[1;32m     32\u001b[0m \u001b[39mfor\u001b[39;00m automl_type \u001b[39min\u001b[39;00m [\u001b[39m\"\u001b[39m\u001b[39mtpot\u001b[39m\u001b[39m\"\u001b[39m]: \n",
      "File \u001b[0;32m/fantasy-experiments/models/2023.03/train_test.py:77\u001b[0m, in \u001b[0;36mload_data\u001b[0;34m(filename, target, validation_season, include_position, seed, col_drop_filters, filtering_query)\u001b[0m\n\u001b[1;32m     75\u001b[0m \u001b[39mprint\u001b[39m(\u001b[39mf\u001b[39m\u001b[39m\"\u001b[39m\u001b[39mOne-hot encoding features: \u001b[39m\u001b[39m{\u001b[39;00mone_hots\u001b[39m}\u001b[39;00m\u001b[39m\"\u001b[39m)\n\u001b[1;32m     76\u001b[0m df \u001b[39m=\u001b[39m pd\u001b[39m.\u001b[39mget_dummies(df, columns\u001b[39m=\u001b[39mone_hots)\n\u001b[0;32m---> 77\u001b[0m df[\u001b[39m\"\u001b[39m\u001b[39mextra:is_home\u001b[39m\u001b[39m\"\u001b[39m] \u001b[39m=\u001b[39m df[\u001b[39m\"\u001b[39;49m\u001b[39mextra:is_home\u001b[39;49m\u001b[39m\"\u001b[39;49m]\u001b[39m.\u001b[39mastype(\u001b[39mint\u001b[39m)\n\u001b[1;32m     79\u001b[0m feature_cols \u001b[39m=\u001b[39m [\n\u001b[1;32m     80\u001b[0m     col\n\u001b[1;32m     81\u001b[0m     \u001b[39mfor\u001b[39;00m col \u001b[39min\u001b[39;00m df\n\u001b[0;32m   (...)\u001b[0m\n\u001b[1;32m     85\u001b[0m     \u001b[39mor\u001b[39;00m \u001b[39m\"\u001b[39m\u001b[39m:std\u001b[39m\u001b[39m\"\u001b[39m \u001b[39min\u001b[39;00m col\n\u001b[1;32m     86\u001b[0m ]\n\u001b[1;32m     88\u001b[0m train_test_df \u001b[39m=\u001b[39m df[df\u001b[39m.\u001b[39mseason \u001b[39m!=\u001b[39m validation_season]\n",
      "File \u001b[0;32m/venv/lib/python3.11/site-packages/pandas/core/frame.py:3807\u001b[0m, in \u001b[0;36mDataFrame.__getitem__\u001b[0;34m(self, key)\u001b[0m\n\u001b[1;32m   3805\u001b[0m \u001b[39mif\u001b[39;00m \u001b[39mself\u001b[39m\u001b[39m.\u001b[39mcolumns\u001b[39m.\u001b[39mnlevels \u001b[39m>\u001b[39m \u001b[39m1\u001b[39m:\n\u001b[1;32m   3806\u001b[0m     \u001b[39mreturn\u001b[39;00m \u001b[39mself\u001b[39m\u001b[39m.\u001b[39m_getitem_multilevel(key)\n\u001b[0;32m-> 3807\u001b[0m indexer \u001b[39m=\u001b[39m \u001b[39mself\u001b[39;49m\u001b[39m.\u001b[39;49mcolumns\u001b[39m.\u001b[39;49mget_loc(key)\n\u001b[1;32m   3808\u001b[0m \u001b[39mif\u001b[39;00m is_integer(indexer):\n\u001b[1;32m   3809\u001b[0m     indexer \u001b[39m=\u001b[39m [indexer]\n",
      "File \u001b[0;32m/venv/lib/python3.11/site-packages/pandas/core/indexes/base.py:3804\u001b[0m, in \u001b[0;36mIndex.get_loc\u001b[0;34m(self, key, method, tolerance)\u001b[0m\n\u001b[1;32m   3802\u001b[0m     \u001b[39mreturn\u001b[39;00m \u001b[39mself\u001b[39m\u001b[39m.\u001b[39m_engine\u001b[39m.\u001b[39mget_loc(casted_key)\n\u001b[1;32m   3803\u001b[0m \u001b[39mexcept\u001b[39;00m \u001b[39mKeyError\u001b[39;00m \u001b[39mas\u001b[39;00m err:\n\u001b[0;32m-> 3804\u001b[0m     \u001b[39mraise\u001b[39;00m \u001b[39mKeyError\u001b[39;00m(key) \u001b[39mfrom\u001b[39;00m \u001b[39merr\u001b[39;00m\n\u001b[1;32m   3805\u001b[0m \u001b[39mexcept\u001b[39;00m \u001b[39mTypeError\u001b[39;00m:\n\u001b[1;32m   3806\u001b[0m     \u001b[39m# If we have a listlike key, _check_indexing_error will raise\u001b[39;00m\n\u001b[1;32m   3807\u001b[0m     \u001b[39m#  InvalidIndexError. Otherwise we fall through and re-raise\u001b[39;00m\n\u001b[1;32m   3808\u001b[0m     \u001b[39m#  the TypeError.\u001b[39;00m\n\u001b[1;32m   3809\u001b[0m     \u001b[39mself\u001b[39m\u001b[39m.\u001b[39m_check_indexing_error(key)\n",
      "\u001b[0;31mKeyError\u001b[0m: 'extra:is_home'"
     ]
    }
   ],
   "source": [
    "from datetime import datetime\n",
    "\n",
    "from train_test import load_data, train_test, create_fantasy_model\n",
    "\n",
    "TARGET = (\"extra\", \"match-win\")\n",
    "MODEL_NAME = \"LOL-team-win\"\n",
    "DATA_FILENAME = \"/fantasy/lol_team.csv\"\n",
    "P_OR_T = \"T\"\n",
    "INCLUDE_POS = None\n",
    " \n",
    "# TARGET = (\"calc\", \"dk_performance_score\")\n",
    "# MODEL_NAME = \"LOL-team-DK\"\n",
    "# DATA_FILENAME = \"/fantasy/lol_team.csv\"\n",
    "# P_OR_T = \"T\"\n",
    "# INCLUDE_POS = None\n",
    "\n",
    "# TARGET = (\"calc\", \"dk_performance_score\")\n",
    "# MODEL_NAME = \"LOL-player-DK\"\n",
    "# DATA_FILENAME = \"/fantasy/lol_player.csv\"\n",
    "# P_OR_T = \"P\"\n",
    "# INCLUDE_POS = True\n",
    "\n",
    "df, tt_data = load_data(\n",
    "    DATA_FILENAME,\n",
    "    TARGET,\n",
    "    VALIDATION_SEASON,\n",
    "    seed=RANDOM_SEED,\n",
    "    include_position=INCLUDE_POS,\n",
    ")\n",
    "\n",
    "# for automl_type in [\"tpot\", \"autosk\"]:\n",
    "for automl_type in [\"tpot\"]: \n",
    "    dt_trained = datetime.now()\n",
    "\n",
    "    model_filepath, performance = train_test(\n",
    "        automl_type, MODEL_NAME, TARGET, tt_data, RANDOM_SEED, TRAINING_TIME, dt_trained\n",
    "    )\n",
    "    performance[\"season\"] = VALIDATION_SEASON\n",
    "    model = create_fantasy_model(\n",
    "        MODEL_NAME,\n",
    "        model_filepath,\n",
    "        dt_trained,\n",
    "        tt_data[0].columns,\n",
    "        TARGET,\n",
    "        TRAINING_TIME,\n",
    "        P_OR_T,\n",
    "        RECENT_GAMES,\n",
    "        automl_type,\n",
    "        performance,\n",
    "        seed=RANDOM_SEED,\n",
    "    )\n",
    "    model_filepath = model.dump(\".\".join([MODEL_NAME, TARGET[1], automl_type, \"model\"]))\n",
    "    print(f\"Model file saved to '{model_filepath}'\")\n"
   ]
  }
 ],
 "metadata": {
  "kernelspec": {
   "display_name": "venv",
   "language": "python",
   "name": "python3"
  },
  "language_info": {
   "codemirror_mode": {
    "name": "ipython",
    "version": 3
   },
   "file_extension": ".py",
   "mimetype": "text/x-python",
   "name": "python",
   "nbconvert_exporter": "python",
   "pygments_lexer": "ipython3",
   "version": "3.11.1"
  },
  "orig_nbformat": 4
 },
 "nbformat": 4,
 "nbformat_minor": 2
}
