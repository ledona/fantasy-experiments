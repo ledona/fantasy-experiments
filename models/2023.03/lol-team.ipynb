{
 "cells": [
  {
   "attachments": {},
   "cell_type": "markdown",
   "metadata": {},
   "source": [
    "# LOL Team Models\n",
    "\n",
    "## Data Export\n",
    "```\n",
    "# dump team LOL data\n",
    "dumpdata.sc --seasons 2014 2015 2016 2017 2018 2019 2020 2021 2022 --stats \"*\" --calc_stats \"*\" --progress lol_hist_2014-2022.scored.db --no_players --target_calc_stats dk_performance_score fd_performance_score --hist_recent_games 5 --hist_recent_mode ma --extra_stats \"*\" -f lol_train_team.csv\n",
    "```"
   ]
  },
  {
   "cell_type": "code",
   "execution_count": null,
   "metadata": {},
   "outputs": [],
   "source": [
    "import pandas as pd\n",
    "\n",
    "RANDOM_SEED = 1\n",
    "TRAINING_TIME = 600\n",
    "\n",
    "df = pd.read_csv(\"/fantasy/lol_train_team.csv\")"
   ]
  },
  {
   "cell_type": "code",
   "execution_count": null,
   "metadata": {},
   "outputs": [],
   "source": [
    "import sklearn.model_selection\n",
    "\n",
    "training_cols = [\n",
    "    col\n",
    "    for col in df\n",
    "    if col.startswith(\"extra\") or \":recent\" in col or \":std\" in col\n",
    "]\n",
    "print(f\"Training using {len(training_cols)} features\")\n",
    "X = df[training_cols].copy()\n",
    "X[\"extra:is_home\"] = X[\"extra:is_home\"].astype(int)\n",
    "y = df[\"calc:dk_performance_score\"]\n",
    "X_train, X_test, y_train, y_test = sklearn.model_selection.train_test_split(\n",
    "    X, y, random_state=RANDOM_SEED\n",
    ")"
   ]
  },
  {
   "cell_type": "code",
   "execution_count": null,
   "metadata": {},
   "outputs": [],
   "source": [
    "import autosklearn.regression\n",
    "import sklearn.model_selection\n",
    "import sklearn.metrics\n",
    "from pprint import pprint\n",
    "\n",
    "sk_automl = autosklearn.regression.AutoSklearnRegressor(\n",
    "    seed=RANDOM_SEED, time_left_for_this_task=TRAINING_TIME, memory_limit=6144\n",
    ")\n",
    "sk_automl.fit(X_train, y_train)\n",
    "print(sk_automl.leaderboard())\n",
    "pprint(sk_automl.show_models(), indent=4)\n",
    "y_hat = sk_automl.predict(X_test)\n",
    "print(\"Test R2 score:\", sklearn.metrics.r2_score(y_test, y_hat))\n"
   ]
  },
  {
   "cell_type": "code",
   "execution_count": null,
   "metadata": {},
   "outputs": [],
   "source": [
    "from tpot import TPOTRegressor\n",
    "\n",
    "tpot_automl = TPOTRegressor(\n",
    "    random_state=RANDOM_SEED,\n",
    "    max_time_mins=TRAINING_TIME / 60,\n",
    "    verbosity=2,\n",
    ")\n",
    "tpot_automl.fit(X_train, y_train)\n",
    "pprint(tpot_automl.fitted_pipeline_)\n",
    "y_hat = tpot_automl.predict(X_test)\n",
    "print(\"Test R2 score:\", sklearn.metrics.r2_score(y_test, y_hat))\n"
   ]
  }
 ],
 "metadata": {
  "kernelspec": {
   "display_name": "venv",
   "language": "python",
   "name": "python3"
  },
  "language_info": {
   "codemirror_mode": {
    "name": "ipython",
    "version": 3
   },
   "file_extension": ".py",
   "mimetype": "text/x-python",
   "name": "python",
   "nbconvert_exporter": "python",
   "pygments_lexer": "ipython3",
   "version": "3.11.1"
  },
  "orig_nbformat": 4
 },
 "nbformat": 4,
 "nbformat_minor": 2
}
