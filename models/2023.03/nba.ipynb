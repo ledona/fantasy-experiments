{
 "cells": [
  {
   "attachments": {},
   "cell_type": "markdown",
   "metadata": {},
   "source": [
    "# NBA Models\n",
    "\n",
    "## Data Export\n",
    "```\n",
    "# player\n",
    "dumpdata.sc --seasons 20152016 20162017 20172018 20182019 20192020 20202021 20212022 \\\n",
    "    --stats \"*\" --progress \\\n",
    "    nba_hist_20082009-20212022.scored.db --no_teams --target_calc_stats \"*\" \\\n",
    "    --hist_recent_games 5 --hist_recent_mode ma --current_extra is_home -f nba_player.csv\n",
    "\n",
    "# team\n",
    "dumpdata.sc --seasons 20152016 20162017 20172018 20182019 20192020 20202021 20212022 \\\n",
    "    --stats \"*\" --progress \\\n",
    "    nba_hist_20082009-20212022.scored.db --no_players --target_stats pts win \\\n",
    "    --hist_recent_games 5 --hist_recent_mode ma --current_extra is_home -f nba_team.csv\n",
    "```"
   ]
  },
  {
   "cell_type": "code",
   "execution_count": null,
   "metadata": {},
   "outputs": [],
   "source": [
    "RANDOM_SEED = 1\n",
    "TRAINING_TIME = 600\n",
    "VALIDATION_SEASON = 20212022\n",
    "RECENT_GAMES = 5\n",
    "TRAINING_SEASONS = [20152016, 20162017, 20172018, 20182019, 20192020, 20202021]"
   ]
  },
  {
   "cell_type": "code",
   "execution_count": null,
   "metadata": {},
   "outputs": [],
   "source": [
    "from datetime import datetime\n",
    "\n",
    "from fantasy_py import PlayerOrTeam\n",
    "from train_test import load_data, train_test, create_fantasy_model\n",
    "\n",
    "TARGET = (\"stat\", \"pts\")\n",
    "MODEL_NAME = \"NBA-team-pts\"\n",
    "DATA_FILENAME = \"/fantasy/nba_team.csv\"\n",
    "P_OR_T = PlayerOrTeam.TEAM\n",
    "INCLUDE_POS = None\n",
    "\n",
    "# TARGET = (\"stat\", \"win\")\n",
    "# MODEL_NAME = \"NBA-team-win\"\n",
    "# DATA_FILENAME = \"/fantasy/nba_team.csv\"\n",
    "# P_OR_T = \"T\"\n",
    "# INCLUDE_POS = None\n",
    "\n",
    "# TARGET = (\"calc\", \"dk_score\")\n",
    "# MODEL_NAME = \"NBA-DK\"\n",
    "# DATA_FILENAME = \"/fantasy/nba_player.csv\"\n",
    "# P_OR_T = PlayerOrTeam.PLAYER\n",
    "# INCLUDE_POS = True\n",
    "\n",
    "df, tt_data = load_data(\n",
    "    DATA_FILENAME,\n",
    "    TARGET,\n",
    "    VALIDATION_SEASON,\n",
    "    seed=RANDOM_SEED,\n",
    "    include_position=INCLUDE_POS,\n",
    ")\n",
    "\n",
    "for automl_type in [\"tpot\"]:  # , \"autosk\"]:\n",
    "    dt_trained = datetime.now()\n",
    "\n",
    "    model_filepath, performance = train_test(\n",
    "        automl_type, MODEL_NAME, TARGET, tt_data, RANDOM_SEED, TRAINING_TIME, dt_trained\n",
    "    )\n",
    "    performance[\"season\"] = VALIDATION_SEASON\n",
    "    model = create_fantasy_model(\n",
    "        MODEL_NAME,\n",
    "        model_filepath,\n",
    "        dt_trained,\n",
    "        tt_data[0],\n",
    "        TARGET,\n",
    "        TRAINING_TIME,\n",
    "        P_OR_T,\n",
    "        RECENT_GAMES,\n",
    "        automl_type,\n",
    "        performance,\n",
    "        TRAINING_SEASONS,\n",
    "        seed=RANDOM_SEED,\n",
    "    )\n",
    "    model_filepath = model.dump(\".\".join([MODEL_NAME, TARGET[1], automl_type, \"model\"]))\n",
    "    print(f\"Model file saved to '{model_filepath}'\")\n"
   ]
  }
 ],
 "metadata": {
  "kernelspec": {
   "display_name": "venv",
   "language": "python",
   "name": "python3"
  },
  "language_info": {
   "codemirror_mode": {
    "name": "ipython",
    "version": 3
   },
   "file_extension": ".py",
   "mimetype": "text/x-python",
   "name": "python",
   "nbconvert_exporter": "python",
   "pygments_lexer": "ipython3",
   "version": "3.11.2"
  },
  "orig_nbformat": 4
 },
 "nbformat": 4,
 "nbformat_minor": 2
}
