{
 "cells": [
  {
   "attachments": {},
   "cell_type": "markdown",
   "metadata": {},
   "source": [
    "# NBA Models\n",
    "\n",
    "## Data Export\n",
    "```\n",
    "# player\n",
    "dumpdata.sc --seasons 20152016 20162017 20172018 20182019 20192020 20202021 20212022 --stats \"*\" --progress \\\n",
    "    nba_hist_20082009-20212022.scored.db --no_teams --target_calc_stats \"*\" \\\n",
    "    --hist_recent_games 5 --hist_recent_mode ma --extra_stats \"*\" -f nba_player.csv\n",
    "\n",
    "# team\n",
    "dumpdata.sc --seasons 20152016 20162017 20172018 20182019 20192020 20202021 20212022 --stats \"*\" --progress \\\n",
    "    nba_hist_20082009-20212022.scored.db --no_players --target_stats pts \\\n",
    "    --hist_recent_games 5 --hist_recent_mode ma --extra_stats \"*\" -f nba_team.csv\n",
    "```"
   ]
  },
  {
   "cell_type": "code",
   "execution_count": null,
   "metadata": {},
   "outputs": [],
   "source": [
    "import pandas as pd\n",
    "\n",
    "RANDOM_SEED = 1\n",
    "TRAINING_TIME = 1800\n",
    "VALIDATION_SEASON = 20212022\n",
    "\n",
    "TARGET_FEATURE = \"calc:dk_score\"\n",
    "MODEL_PREFIX = \"model-player\"\n",
    "df = pd.read_csv(\"/fantasy/nba_player.csv\")\n",
    "\n",
    "# TARGET_FEATURE = \"stat:pts\"\n",
    "# MODEL_PREFIX = \"model-team-pts\"\n",
    "# df = pd.read_csv(\"/fantasy/nba_team.csv\")\n"
   ]
  },
  {
   "cell_type": "code",
   "execution_count": null,
   "metadata": {},
   "outputs": [],
   "source": [
    "import sklearn.model_selection\n",
    "\n",
    "one_hots = [\"extra:venue\"]\n",
    "cleaned_df = df\n",
    "if \"pos\" in cleaned_df:\n",
    "    one_hots.append(\"pos\")\n",
    "    cleaned_df.pos = cleaned_df.pos.astype(str)\n",
    "cleaned_df = pd.get_dummies(df, columns=one_hots)\n",
    "\n",
    "cleaned_df[\"extra:is_home\"] = cleaned_df[\"extra:is_home\"].astype(int)\n",
    "feature_cols = [\n",
    "    col\n",
    "    for col in cleaned_df\n",
    "    if col == \"pos\" or col.startswith(\"extra\") or \":recent\" in col or \":std\" in col\n",
    "]\n",
    "\n",
    "train_test_df = cleaned_df.query(\"season != @VALIDATION_SEASON\")\n",
    "\n",
    "X = train_test_df[feature_cols]\n",
    "y = train_test_df[TARGET_FEATURE]\n",
    "X_train, X_test, y_train, y_test = sklearn.model_selection.train_test_split(\n",
    "    X, y, random_state=RANDOM_SEED\n",
    ")\n",
    "\n",
    "validation_df = cleaned_df.query(\"season == @VALIDATION_SEASON\")\n",
    "X_val = validation_df[feature_cols]\n",
    "y_val = validation_df[TARGET_FEATURE]\n",
    "print(\n",
    "    f\"Training will use {len(feature_cols)} features, {len(X_train)} training cases, {len(X_test)} test cases, {len(X_val)} validation test cases\",\n",
    ")\n"
   ]
  },
  {
   "cell_type": "code",
   "execution_count": null,
   "metadata": {},
   "outputs": [],
   "source": [
    "import joblib\n",
    "from datetime import datetime\n",
    "\n",
    "import autosklearn.regression\n",
    "import sklearn.model_selection\n",
    "import sklearn.metrics\n",
    "from pprint import pprint\n",
    "\n",
    "sk_automl = autosklearn.regression.AutoSklearnRegressor(\n",
    "    seed=RANDOM_SEED, time_left_for_this_task=TRAINING_TIME, memory_limit=-1\n",
    ")\n",
    "sk_automl.fit(X_train, y_train)\n",
    "print(sk_automl.leaderboard())\n",
    "pprint(sk_automl.show_models(), indent=4)\n",
    "\n",
    "y_hat = sk_automl.predict(X_test)\n",
    "print(\"Test R2 score:\", sklearn.metrics.r2_score(y_test, y_hat))\n",
    "y_hat_val = sk_automl.predict(X_val)\n",
    "print(\"Validation R2 score:\", sklearn.metrics.r2_score(y_val, y_hat_val))\n",
    "\n",
    "filename = f\"{MODEL_PREFIX}-autosk-{TARGET_FEATURE}-{TRAINING_TIME}.{datetime.now().isoformat().rsplit('.', 1)[0]}.pkl\"\n",
    "print(f\"Exporting model to '{filename}'\")\n",
    "joblib.dump(sk_automl, filename)"
   ]
  },
  {
   "cell_type": "code",
   "execution_count": null,
   "metadata": {},
   "outputs": [],
   "source": [
    "from tpot import TPOTRegressor\n",
    "\n",
    "tpot_automl = TPOTRegressor(\n",
    "    random_state=RANDOM_SEED,\n",
    "    max_time_mins=TRAINING_TIME / 60,\n",
    "    verbosity=3,\n",
    ")\n",
    "tpot_automl.fit(X_train, y_train)\n",
    "\n",
    "pprint(tpot_automl.fitted_pipeline_)\n",
    "\n",
    "y_hat = tpot_automl.predict(X_test)\n",
    "print(\"Test R2 score:\", sklearn.metrics.r2_score(y_test, y_hat))\n",
    "y_hat_val = tpot_automl.predict(X_val)\n",
    "print(\"Validation R2 score:\", sklearn.metrics.r2_score(y_val, y_hat_val))\n",
    "\n",
    "filename = f\"{MODEL_PREFIX}-tpot-{TARGET_FEATURE}-{TRAINING_TIME}.{datetime.now().isoformat().rsplit('.', 1)[0]}.pkl\"\n",
    "print(f\"Exporting model to '{filename}'\")\n",
    "joblib.dump(tpot_automl.fitted_pipeline_, filename)\n"
   ]
  }
 ],
 "metadata": {
  "kernelspec": {
   "display_name": "venv",
   "language": "python",
   "name": "python3"
  },
  "language_info": {
   "codemirror_mode": {
    "name": "ipython",
    "version": 3
   },
   "file_extension": ".py",
   "mimetype": "text/x-python",
   "name": "python",
   "nbconvert_exporter": "python",
   "pygments_lexer": "ipython3",
   "version": "3.11.1"
  },
  "orig_nbformat": 4
 },
 "nbformat": 4,
 "nbformat_minor": 2
}
