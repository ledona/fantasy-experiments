{
 "cells": [
  {
   "cell_type": "markdown",
   "metadata": {},
   "source": [
    "Testing for deep NN lineup generation"
   ]
  },
  {
   "cell_type": "code",
   "execution_count": 1,
   "metadata": {},
   "outputs": [],
   "source": [
    "# Train/Eval data generation\n",
    "DB_FILE = \"/fantasy/nhl_hist_20072008-20222023.scored.db\"\n",
    "SEED = 0\n",
    "CASE_COUNT = 10\n",
    "TRAIN_TEST_RATIO = 0.75\n",
    "SEASONS = [20222023]\n"
   ]
  },
  {
   "cell_type": "code",
   "execution_count": null,
   "metadata": {},
   "outputs": [],
   "source": [
    "from fantasy_py.db import FantasySQLAlchemyWrapper\n",
    "\n",
    "\n",
    "def export_deep_dataset(\n",
    "    db_obj: FantasySQLAlchemyWrapper, outfile_path: str, seasons: list[int], case_count: int, seed\n",
    "):\n",
    "    raise NotImplementedError()\n",
    "    pass"
   ]
  }
 ],
 "metadata": {
  "kernelspec": {
   "display_name": "venv",
   "language": "python",
   "name": "python3"
  },
  "language_info": {
   "codemirror_mode": {
    "name": "ipython",
    "version": 3
   },
   "file_extension": ".py",
   "mimetype": "text/x-python",
   "name": "python",
   "nbconvert_exporter": "python",
   "pygments_lexer": "ipython3",
   "version": "3.11.6"
  }
 },
 "nbformat": 4,
 "nbformat_minor": 2
}
